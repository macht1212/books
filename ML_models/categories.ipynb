{
 "cells": [
  {
   "cell_type": "code",
   "execution_count": 60,
   "id": "ab1d7393",
   "metadata": {},
   "outputs": [],
   "source": [
    "import pandas as pd\n",
    "import numpy as np"
   ]
  },
  {
   "cell_type": "code",
   "execution_count": 4,
   "id": "dada3cc3",
   "metadata": {},
   "outputs": [],
   "source": [
    "data = pd.read_csv('categories.csv', sep=';')"
   ]
  },
  {
   "cell_type": "code",
   "execution_count": 5,
   "id": "93a8016f",
   "metadata": {},
   "outputs": [
    {
     "data": {
      "text/html": [
       "<div>\n",
       "<style scoped>\n",
       "    .dataframe tbody tr th:only-of-type {\n",
       "        vertical-align: middle;\n",
       "    }\n",
       "\n",
       "    .dataframe tbody tr th {\n",
       "        vertical-align: top;\n",
       "    }\n",
       "\n",
       "    .dataframe thead th {\n",
       "        text-align: right;\n",
       "    }\n",
       "</style>\n",
       "<table border=\"1\" class=\"dataframe\">\n",
       "  <thead>\n",
       "    <tr style=\"text-align: right;\">\n",
       "      <th></th>\n",
       "      <th>id</th>\n",
       "      <th>title</th>\n",
       "      <th>category</th>\n",
       "    </tr>\n",
       "  </thead>\n",
       "  <tbody>\n",
       "    <tr>\n",
       "      <th>0</th>\n",
       "      <td>0</td>\n",
       "      <td>ND</td>\n",
       "      <td>Нет Данных</td>\n",
       "    </tr>\n",
       "    <tr>\n",
       "      <th>1</th>\n",
       "      <td>110005</td>\n",
       "      <td>Фэнтези</td>\n",
       "      <td>Фантастика и фентези</td>\n",
       "    </tr>\n",
       "    <tr>\n",
       "      <th>2</th>\n",
       "      <td>110028</td>\n",
       "      <td>Публицистика</td>\n",
       "      <td>Публицистика</td>\n",
       "    </tr>\n",
       "    <tr>\n",
       "      <th>3</th>\n",
       "      <td>110020</td>\n",
       "      <td>Деятели культуры и искусства</td>\n",
       "      <td>Искусство</td>\n",
       "    </tr>\n",
       "    <tr>\n",
       "      <th>4</th>\n",
       "      <td>110011</td>\n",
       "      <td>Детективный роман. Триллер</td>\n",
       "      <td>Детектив</td>\n",
       "    </tr>\n",
       "    <tr>\n",
       "      <th>...</th>\n",
       "      <td>...</td>\n",
       "      <td>...</td>\n",
       "      <td>...</td>\n",
       "    </tr>\n",
       "    <tr>\n",
       "      <th>325</th>\n",
       "      <td>110159</td>\n",
       "      <td>Другие общественные предметы</td>\n",
       "      <td>Наука</td>\n",
       "    </tr>\n",
       "    <tr>\n",
       "      <th>326</th>\n",
       "      <td>110172</td>\n",
       "      <td>ЕГЭ, ОГЭ, ВПР</td>\n",
       "      <td>Обучение</td>\n",
       "    </tr>\n",
       "    <tr>\n",
       "      <th>327</th>\n",
       "      <td>110376</td>\n",
       "      <td>Страхование. Социальная работа</td>\n",
       "      <td>Прочее</td>\n",
       "    </tr>\n",
       "    <tr>\n",
       "      <th>328</th>\n",
       "      <td>110174</td>\n",
       "      <td>Подготовка к ОГЭ</td>\n",
       "      <td>Обучение</td>\n",
       "    </tr>\n",
       "    <tr>\n",
       "      <th>329</th>\n",
       "      <td>110043</td>\n",
       "      <td>Зарубежные фэнтези, фантастика и ужасы</td>\n",
       "      <td>Фантастика и фентези</td>\n",
       "    </tr>\n",
       "  </tbody>\n",
       "</table>\n",
       "<p>330 rows × 3 columns</p>\n",
       "</div>"
      ],
      "text/plain": [
       "         id                                   title              category\n",
       "0         0                                      ND            Нет Данных\n",
       "1    110005                                 Фэнтези  Фантастика и фентези\n",
       "2    110028                            Публицистика          Публицистика\n",
       "3    110020            Деятели культуры и искусства             Искусство\n",
       "4    110011              Детективный роман. Триллер              Детектив\n",
       "..      ...                                     ...                   ...\n",
       "325  110159            Другие общественные предметы                 Наука\n",
       "326  110172                           ЕГЭ, ОГЭ, ВПР              Обучение\n",
       "327  110376          Страхование. Социальная работа                Прочее\n",
       "328  110174                        Подготовка к ОГЭ              Обучение\n",
       "329  110043  Зарубежные фэнтези, фантастика и ужасы  Фантастика и фентези\n",
       "\n",
       "[330 rows x 3 columns]"
      ]
     },
     "execution_count": 5,
     "metadata": {},
     "output_type": "execute_result"
    }
   ],
   "source": [
    "data"
   ]
  },
  {
   "cell_type": "code",
   "execution_count": 6,
   "id": "ae1e2a0d",
   "metadata": {},
   "outputs": [
    {
     "data": {
      "text/plain": [
       "18"
      ]
     },
     "execution_count": 6,
     "metadata": {},
     "output_type": "execute_result"
    }
   ],
   "source": [
    "data.category.nunique()"
   ]
  },
  {
   "cell_type": "code",
   "execution_count": 32,
   "id": "07ba4800",
   "metadata": {},
   "outputs": [],
   "source": [
    "cats = pd.Series(data.category.unique())"
   ]
  },
  {
   "cell_type": "code",
   "execution_count": 24,
   "id": "5664d078",
   "metadata": {},
   "outputs": [],
   "source": [
    "cats['id'] = pd.Series([x for x in range(data.category.nunique())])"
   ]
  },
  {
   "cell_type": "code",
   "execution_count": 35,
   "id": "cdd03a8c",
   "metadata": {},
   "outputs": [],
   "source": [
    "cats_dict = cats.to_dict()"
   ]
  },
  {
   "cell_type": "code",
   "execution_count": 34,
   "id": "8b029c99",
   "metadata": {},
   "outputs": [
    {
     "data": {
      "text/html": [
       "<div>\n",
       "<style scoped>\n",
       "    .dataframe tbody tr th:only-of-type {\n",
       "        vertical-align: middle;\n",
       "    }\n",
       "\n",
       "    .dataframe tbody tr th {\n",
       "        vertical-align: top;\n",
       "    }\n",
       "\n",
       "    .dataframe thead th {\n",
       "        text-align: right;\n",
       "    }\n",
       "</style>\n",
       "<table border=\"1\" class=\"dataframe\">\n",
       "  <thead>\n",
       "    <tr style=\"text-align: right;\">\n",
       "      <th></th>\n",
       "      <th>id</th>\n",
       "      <th>title</th>\n",
       "      <th>category</th>\n",
       "    </tr>\n",
       "  </thead>\n",
       "  <tbody>\n",
       "    <tr>\n",
       "      <th>0</th>\n",
       "      <td>0</td>\n",
       "      <td>ND</td>\n",
       "      <td>Нет Данных</td>\n",
       "    </tr>\n",
       "    <tr>\n",
       "      <th>1</th>\n",
       "      <td>110005</td>\n",
       "      <td>Фэнтези</td>\n",
       "      <td>Фантастика и фентези</td>\n",
       "    </tr>\n",
       "    <tr>\n",
       "      <th>2</th>\n",
       "      <td>110028</td>\n",
       "      <td>Публицистика</td>\n",
       "      <td>Публицистика</td>\n",
       "    </tr>\n",
       "    <tr>\n",
       "      <th>3</th>\n",
       "      <td>110020</td>\n",
       "      <td>Деятели культуры и искусства</td>\n",
       "      <td>Искусство</td>\n",
       "    </tr>\n",
       "    <tr>\n",
       "      <th>4</th>\n",
       "      <td>110011</td>\n",
       "      <td>Детективный роман. Триллер</td>\n",
       "      <td>Детектив</td>\n",
       "    </tr>\n",
       "    <tr>\n",
       "      <th>...</th>\n",
       "      <td>...</td>\n",
       "      <td>...</td>\n",
       "      <td>...</td>\n",
       "    </tr>\n",
       "    <tr>\n",
       "      <th>325</th>\n",
       "      <td>110159</td>\n",
       "      <td>Другие общественные предметы</td>\n",
       "      <td>Наука</td>\n",
       "    </tr>\n",
       "    <tr>\n",
       "      <th>326</th>\n",
       "      <td>110172</td>\n",
       "      <td>ЕГЭ, ОГЭ, ВПР</td>\n",
       "      <td>Обучение</td>\n",
       "    </tr>\n",
       "    <tr>\n",
       "      <th>327</th>\n",
       "      <td>110376</td>\n",
       "      <td>Страхование. Социальная работа</td>\n",
       "      <td>Прочее</td>\n",
       "    </tr>\n",
       "    <tr>\n",
       "      <th>328</th>\n",
       "      <td>110174</td>\n",
       "      <td>Подготовка к ОГЭ</td>\n",
       "      <td>Обучение</td>\n",
       "    </tr>\n",
       "    <tr>\n",
       "      <th>329</th>\n",
       "      <td>110043</td>\n",
       "      <td>Зарубежные фэнтези, фантастика и ужасы</td>\n",
       "      <td>Фантастика и фентези</td>\n",
       "    </tr>\n",
       "  </tbody>\n",
       "</table>\n",
       "<p>330 rows × 3 columns</p>\n",
       "</div>"
      ],
      "text/plain": [
       "         id                                   title              category\n",
       "0         0                                      ND            Нет Данных\n",
       "1    110005                                 Фэнтези  Фантастика и фентези\n",
       "2    110028                            Публицистика          Публицистика\n",
       "3    110020            Деятели культуры и искусства             Искусство\n",
       "4    110011              Детективный роман. Триллер              Детектив\n",
       "..      ...                                     ...                   ...\n",
       "325  110159            Другие общественные предметы                 Наука\n",
       "326  110172                           ЕГЭ, ОГЭ, ВПР              Обучение\n",
       "327  110376          Страхование. Социальная работа                Прочее\n",
       "328  110174                        Подготовка к ОГЭ              Обучение\n",
       "329  110043  Зарубежные фэнтези, фантастика и ужасы  Фантастика и фентези\n",
       "\n",
       "[330 rows x 3 columns]"
      ]
     },
     "execution_count": 34,
     "metadata": {},
     "output_type": "execute_result"
    }
   ],
   "source": [
    "data['cat_id'] = "
   ]
  },
  {
   "cell_type": "code",
   "execution_count": 44,
   "id": "29769f79",
   "metadata": {},
   "outputs": [],
   "source": [
    "def items(data):\n",
    "    for k, v in cats_dict.items():\n",
    "        if data == v:\n",
    "            return k"
   ]
  },
  {
   "cell_type": "code",
   "execution_count": 48,
   "id": "1d530abf",
   "metadata": {},
   "outputs": [],
   "source": [
    "data['cat_id'] = data.category.apply(items)"
   ]
  },
  {
   "cell_type": "code",
   "execution_count": 70,
   "id": "0a05964d",
   "metadata": {},
   "outputs": [
    {
     "data": {
      "text/html": [
       "<div>\n",
       "<style scoped>\n",
       "    .dataframe tbody tr th:only-of-type {\n",
       "        vertical-align: middle;\n",
       "    }\n",
       "\n",
       "    .dataframe tbody tr th {\n",
       "        vertical-align: top;\n",
       "    }\n",
       "\n",
       "    .dataframe thead th {\n",
       "        text-align: right;\n",
       "    }\n",
       "</style>\n",
       "<table border=\"1\" class=\"dataframe\">\n",
       "  <thead>\n",
       "    <tr style=\"text-align: right;\">\n",
       "      <th></th>\n",
       "      <th>id</th>\n",
       "      <th>title</th>\n",
       "      <th>category</th>\n",
       "      <th>cat_id</th>\n",
       "    </tr>\n",
       "  </thead>\n",
       "  <tbody>\n",
       "    <tr>\n",
       "      <th>102</th>\n",
       "      <td>110259</td>\n",
       "      <td>Кошки</td>\n",
       "      <td>Обучение</td>\n",
       "      <td>7</td>\n",
       "    </tr>\n",
       "  </tbody>\n",
       "</table>\n",
       "</div>"
      ],
      "text/plain": [
       "         id  title  category  cat_id\n",
       "102  110259  Кошки  Обучение       7"
      ]
     },
     "execution_count": 70,
     "metadata": {},
     "output_type": "execute_result"
    }
   ],
   "source": [
    "data.loc[data.title=='Кошки']"
   ]
  },
  {
   "cell_type": "code",
   "execution_count": 55,
   "id": "c8e0e56d",
   "metadata": {},
   "outputs": [],
   "source": [
    "import psycopg2 as ppg\n",
    "from dotenv import load_dotenv\n",
    "import os"
   ]
  },
  {
   "cell_type": "code",
   "execution_count": 62,
   "id": "716eb883",
   "metadata": {},
   "outputs": [
    {
     "data": {
      "text/plain": [
       "330"
      ]
     },
     "execution_count": 62,
     "metadata": {},
     "output_type": "execute_result"
    }
   ],
   "source": [
    "len(np.array(data.cat_id))"
   ]
  },
  {
   "cell_type": "code",
   "execution_count": 69,
   "id": "626feb73",
   "metadata": {},
   "outputs": [],
   "source": [
    "load_dotenv('.env')\n",
    "for id_, i in zip(np.array(data.id), np.array(data.cat_id)):\n",
    "    with ppg.connect(database='Books_', user=os.getenv('USER'), password=os.getenv(\"PASSWORD\")) as conn:\n",
    "        query = \"\"\"UPDATE category SET cat_id = %s WHERE id = %s;\n",
    "        \"\"\"\n",
    "        with conn.cursor() as cur:\n",
    "            cur.execute(query, (int(i), int(id_)))"
   ]
  },
  {
   "cell_type": "code",
   "execution_count": null,
   "id": "0a69e5f4",
   "metadata": {},
   "outputs": [],
   "source": [
    "# "
   ]
  },
  {
   "cell_type": "code",
   "execution_count": null,
   "id": "5c033c67",
   "metadata": {},
   "outputs": [],
   "source": []
  },
  {
   "cell_type": "code",
   "execution_count": null,
   "id": "badd69c9",
   "metadata": {},
   "outputs": [],
   "source": []
  },
  {
   "cell_type": "code",
   "execution_count": null,
   "id": "0dbbca9f",
   "metadata": {},
   "outputs": [],
   "source": []
  },
  {
   "cell_type": "code",
   "execution_count": null,
   "id": "53ba153e",
   "metadata": {},
   "outputs": [],
   "source": []
  },
  {
   "cell_type": "code",
   "execution_count": null,
   "id": "ee761594",
   "metadata": {},
   "outputs": [],
   "source": []
  },
  {
   "cell_type": "code",
   "execution_count": null,
   "id": "cb3fc741",
   "metadata": {},
   "outputs": [],
   "source": []
  },
  {
   "cell_type": "code",
   "execution_count": null,
   "id": "2fc0eca6",
   "metadata": {},
   "outputs": [],
   "source": []
  },
  {
   "cell_type": "code",
   "execution_count": null,
   "id": "c6d3ecbd",
   "metadata": {},
   "outputs": [],
   "source": []
  },
  {
   "cell_type": "code",
   "execution_count": null,
   "id": "713cc7d4",
   "metadata": {},
   "outputs": [],
   "source": []
  },
  {
   "cell_type": "code",
   "execution_count": null,
   "id": "e3042ab2",
   "metadata": {},
   "outputs": [],
   "source": []
  },
  {
   "cell_type": "code",
   "execution_count": null,
   "id": "4b743748",
   "metadata": {},
   "outputs": [],
   "source": []
  },
  {
   "cell_type": "code",
   "execution_count": null,
   "id": "62acda9a",
   "metadata": {},
   "outputs": [],
   "source": []
  },
  {
   "cell_type": "code",
   "execution_count": null,
   "id": "67295fa1",
   "metadata": {},
   "outputs": [],
   "source": []
  }
 ],
 "metadata": {
  "kernelspec": {
   "display_name": "Python 3 (ipykernel)",
   "language": "python",
   "name": "python3"
  },
  "language_info": {
   "codemirror_mode": {
    "name": "ipython",
    "version": 3
   },
   "file_extension": ".py",
   "mimetype": "text/x-python",
   "name": "python",
   "nbconvert_exporter": "python",
   "pygments_lexer": "ipython3",
   "version": "3.11.4"
  }
 },
 "nbformat": 4,
 "nbformat_minor": 5
}
