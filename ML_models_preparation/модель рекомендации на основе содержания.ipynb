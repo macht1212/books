{
 "cells": [
  {
   "cell_type": "code",
   "execution_count": 1,
   "id": "cedbef1c",
   "metadata": {},
   "outputs": [],
   "source": [
    "import pandas as pd\n",
    "import numpy as np\n",
    "from collections import Counter\n",
    "from datetime import datetime\n",
    "from tqdm.notebook import tqdm\n",
    "import matplotlib.pyplot as plt\n",
    "\n",
    "import warnings\n",
    "warnings.filterwarnings('ignore')"
   ]
  },
  {
   "cell_type": "code",
   "execution_count": 2,
   "id": "c4582ef2",
   "metadata": {},
   "outputs": [],
   "source": [
    "import psycopg2 as ppg\n",
    "import os\n",
    "import re"
   ]
  },
  {
   "cell_type": "code",
   "execution_count": 123,
   "id": "3341b715",
   "metadata": {},
   "outputs": [],
   "source": [
    "with ppg.connect(database='Books_', user=os.getenv('USER'), password=os.getenv(\"PASSWORD\")) as conn:\n",
    "    query = \"\"\"select b.id, b.title, (a.firstname, a.lastname) as author, ci.title as category, b.description, b.description_nlp, b.rating, b.votes from books b \n",
    "\tleft join authors a on a.id = b.author\n",
    "\tleft join category c on c.id = b.category\n",
    "\tleft join category_id ci on ci.id = c.cat_id\n",
    "\tleft join publisher p on p.id = b.publisher \n",
    "    \"\"\"\n",
    "    data = pd.read_sql(query, conn)"
   ]
  },
  {
   "cell_type": "code",
   "execution_count": 124,
   "id": "f1d249e3",
   "metadata": {},
   "outputs": [
    {
     "data": {
      "text/html": [
       "<div>\n",
       "<style scoped>\n",
       "    .dataframe tbody tr th:only-of-type {\n",
       "        vertical-align: middle;\n",
       "    }\n",
       "\n",
       "    .dataframe tbody tr th {\n",
       "        vertical-align: top;\n",
       "    }\n",
       "\n",
       "    .dataframe thead th {\n",
       "        text-align: right;\n",
       "    }\n",
       "</style>\n",
       "<table border=\"1\" class=\"dataframe\">\n",
       "  <thead>\n",
       "    <tr style=\"text-align: right;\">\n",
       "      <th></th>\n",
       "      <th>id</th>\n",
       "      <th>title</th>\n",
       "      <th>author</th>\n",
       "      <th>category</th>\n",
       "      <th>description</th>\n",
       "      <th>description_nlp</th>\n",
       "      <th>rating</th>\n",
       "      <th>votes</th>\n",
       "    </tr>\n",
       "  </thead>\n",
       "  <tbody>\n",
       "    <tr>\n",
       "      <th>0</th>\n",
       "      <td>2905225</td>\n",
       "      <td>Daddy-Long-Legs</td>\n",
       "      <td>(Джин,Вебстер)</td>\n",
       "      <td>Проза</td>\n",
       "      <td>Эпистолярный роман Джин Вебстер «Длинноногий п...</td>\n",
       "      <td>эпистолярн рома джин вебстер длинноног папочк ...</td>\n",
       "      <td>3.90</td>\n",
       "      <td>10</td>\n",
       "    </tr>\n",
       "    <tr>\n",
       "      <th>1</th>\n",
       "      <td>2961065</td>\n",
       "      <td>Бесобой: роман</td>\n",
       "      <td>(Кирилл,Кутузов)</td>\n",
       "      <td>Фантастика и фентези</td>\n",
       "      <td>История мрачного борца с демонами — теперь в ф...</td>\n",
       "      <td>истор мрачн борц демон формат художествен рома...</td>\n",
       "      <td>3.88</td>\n",
       "      <td>33</td>\n",
       "    </tr>\n",
       "    <tr>\n",
       "      <th>2</th>\n",
       "      <td>2946512</td>\n",
       "      <td>Ночь, когда мы исчезли</td>\n",
       "      <td>(Николай,Кононов)</td>\n",
       "      <td>Проза</td>\n",
       "      <td>Война застает врасплох. Заставляет бежать, лом...</td>\n",
       "      <td>войн заста врасплох заставля бежа лома привычн...</td>\n",
       "      <td>3.92</td>\n",
       "      <td>64</td>\n",
       "    </tr>\n",
       "    <tr>\n",
       "      <th>3</th>\n",
       "      <td>2944570</td>\n",
       "      <td>Любовь. Мечта. Лидерство</td>\n",
       "      <td>(Анна,Пермиловская)</td>\n",
       "      <td>Спорт</td>\n",
       "      <td>Верить в себя или верить в судьбу? Реагировать...</td>\n",
       "      <td>вер вер судьб реагирова происходя создава реал...</td>\n",
       "      <td>4.40</td>\n",
       "      <td>15</td>\n",
       "    </tr>\n",
       "    <tr>\n",
       "      <th>4</th>\n",
       "      <td>2499495</td>\n",
       "      <td>Леонард Коэн. Биография.</td>\n",
       "      <td>(ND,ND)</td>\n",
       "      <td>Искусство</td>\n",
       "      <td>Скорее всего, вы никогда не встретите имя Леон...</td>\n",
       "      <td>скор встрет им леонард коэн предложен слон пло...</td>\n",
       "      <td>5.00</td>\n",
       "      <td>1</td>\n",
       "    </tr>\n",
       "  </tbody>\n",
       "</table>\n",
       "</div>"
      ],
      "text/plain": [
       "        id                     title               author  \\\n",
       "0  2905225           Daddy-Long-Legs       (Джин,Вебстер)   \n",
       "1  2961065            Бесобой: роман     (Кирилл,Кутузов)   \n",
       "2  2946512    Ночь, когда мы исчезли    (Николай,Кононов)   \n",
       "3  2944570  Любовь. Мечта. Лидерство  (Анна,Пермиловская)   \n",
       "4  2499495  Леонард Коэн. Биография.              (ND,ND)   \n",
       "\n",
       "               category                                        description  \\\n",
       "0                 Проза  Эпистолярный роман Джин Вебстер «Длинноногий п...   \n",
       "1  Фантастика и фентези  История мрачного борца с демонами — теперь в ф...   \n",
       "2                 Проза  Война застает врасплох. Заставляет бежать, лом...   \n",
       "3                 Спорт  Верить в себя или верить в судьбу? Реагировать...   \n",
       "4             Искусство  Скорее всего, вы никогда не встретите имя Леон...   \n",
       "\n",
       "                                     description_nlp  rating  votes  \n",
       "0  эпистолярн рома джин вебстер длинноног папочк ...    3.90     10  \n",
       "1  истор мрачн борц демон формат художествен рома...    3.88     33  \n",
       "2  войн заста врасплох заставля бежа лома привычн...    3.92     64  \n",
       "3  вер вер судьб реагирова происходя создава реал...    4.40     15  \n",
       "4  скор встрет им леонард коэн предложен слон пло...    5.00      1  "
      ]
     },
     "execution_count": 124,
     "metadata": {},
     "output_type": "execute_result"
    }
   ],
   "source": [
    "data.head()"
   ]
  },
  {
   "cell_type": "code",
   "execution_count": 29,
   "id": "bc85c1a7",
   "metadata": {},
   "outputs": [],
   "source": [
    "data.author = data.author.apply((lambda x: (\n",
    "    x\n",
    "    .replace('(', '')\n",
    "    .replace(')', '')\n",
    "    .replace(',', ' ')\n",
    "    .replace('\"', '')\n",
    ")))"
   ]
  },
  {
   "cell_type": "code",
   "execution_count": 6,
   "id": "16401f01",
   "metadata": {},
   "outputs": [],
   "source": [
    "data.description = data.description.apply((lambda x: ' '.join(re.findall(r'[а-яёА-ЯЁ]+', x))))"
   ]
  },
  {
   "cell_type": "markdown",
   "id": "2752cb18",
   "metadata": {},
   "source": [
    "### Разведывательный анализ"
   ]
  },
  {
   "cell_type": "code",
   "execution_count": 7,
   "id": "be7987b7",
   "metadata": {},
   "outputs": [
    {
     "data": {
      "image/png": "[encoded data removed]",
      "text/plain": [
       "<Figure size 640x480 with 1 Axes>"
      ]
     },
     "metadata": {},
     "output_type": "display_data"
    }
   ],
   "source": [
    "(\n",
    "    data\n",
    "    .category\n",
    "    .value_counts()\n",
    "    .plot\n",
    "    .bar()\n",
    ");"
   ]
  },
  {
   "cell_type": "code",
   "execution_count": 8,
   "id": "64476390",
   "metadata": {},
   "outputs": [
    {
     "data": {
      "text/plain": [
       "<Axes: ylabel='Frequency'>"
      ]
     },
     "execution_count": 8,
     "metadata": {},
     "output_type": "execute_result"
    },
    {
     "data": {
      "image/png": "[encoded data removed]",
      "text/plain": [
       "<Figure size 640x480 with 1 Axes>"
      ]
     },
     "metadata": {},
     "output_type": "display_data"
    }
   ],
   "source": [
    "(\n",
    "    data\n",
    "    .rating\n",
    "    .plot\n",
    "    .hist()\n",
    ")"
   ]
  },
  {
   "cell_type": "code",
   "execution_count": 9,
   "id": "4878c2ad",
   "metadata": {},
   "outputs": [
    {
     "data": {
      "image/png": "[encoded data removed]",
      "text/plain": [
       "<Figure size 640x480 with 1 Axes>"
      ]
     },
     "metadata": {},
     "output_type": "display_data"
    }
   ],
   "source": [
    "(\n",
    "    data\n",
    "    .drop_duplicates(subset='title')\n",
    "    .author\n",
    "    .loc[data.author != 'ND ND']\n",
    "    .value_counts()\n",
    "    .head(20)\n",
    "    .plot\n",
    "    .bar()\n",
    ");"
   ]
  },
  {
   "cell_type": "markdown",
   "id": "3c344a1f",
   "metadata": {},
   "source": [
    "## Обработка описаний"
   ]
  },
  {
   "cell_type": "code",
   "execution_count": 10,
   "id": "fe058071",
   "metadata": {},
   "outputs": [
    {
     "name": "stderr",
     "output_type": "stream",
     "text": [
      "[nltk_data] Downloading package omw-1.4 to\n",
      "[nltk_data]     /Users/alexandernazimov/nltk_data...\n",
      "[nltk_data]   Package omw-1.4 is already up-to-date!\n",
      "[nltk_data] Downloading package wordnet to\n",
      "[nltk_data]     /Users/alexandernazimov/nltk_data...\n",
      "[nltk_data]   Package wordnet is already up-to-date!\n",
      "[nltk_data] Downloading package stopwords to\n",
      "[nltk_data]     /Users/alexandernazimov/nltk_data...\n",
      "[nltk_data]   Package stopwords is already up-to-date!\n"
     ]
    }
   ],
   "source": [
    "import nltk\n",
    "\n",
    "from nltk.corpus import stopwords\n",
    "from nltk.tokenize import word_tokenize\n",
    "from nltk.stem import WordNetLemmatizer\n",
    "from nltk.stem.snowball import SnowballStemmer\n",
    "\n",
    "stemmer = SnowballStemmer(\"russian\")\n",
    "\n",
    "nltk.download('omw-1.4')\n",
    "nltk.download('wordnet')\n",
    "nltk.download('stopwords')\n",
    "\n",
    "stop_words = stopwords.words('english') + stopwords.words('russian')"
   ]
  },
  {
   "cell_type": "code",
   "execution_count": 11,
   "id": "503cc8d8",
   "metadata": {},
   "outputs": [],
   "source": [
    "lemm = WordNetLemmatizer()"
   ]
  },
  {
   "cell_type": "code",
   "execution_count": 12,
   "id": "b6d278b8",
   "metadata": {},
   "outputs": [],
   "source": [
    "def tokenize(row):\n",
    "    token = word_tokenize(row)\n",
    "    token = [i for i in token if (i not in stop_words)]\n",
    "    token = [lemm.lemmatize(t) for t in token]\n",
    "    token = [stemmer.stem(t) for t in token]\n",
    "    return ' '.join([t.lower() for t in token])"
   ]
  },
  {
   "cell_type": "code",
   "execution_count": 152,
   "id": "ba285c5b",
   "metadata": {},
   "outputs": [
    {
     "data": {
      "text/plain": [
       "'книг пират карибск мор'"
      ]
     },
     "execution_count": 152,
     "metadata": {},
     "output_type": "execute_result"
    }
   ],
   "source": [
    "tokenize('Книга про пиратов в карибском море')"
   ]
  },
  {
   "cell_type": "code",
   "execution_count": 150,
   "id": "e6b05a66",
   "metadata": {},
   "outputs": [],
   "source": [
    "# %%time\n",
    "# data.description = data.description.apply(tokenize)"
   ]
  },
  {
   "cell_type": "code",
   "execution_count": 14,
   "id": "147b56b0",
   "metadata": {},
   "outputs": [],
   "source": [
    "# data.to_csv('describe.csv')"
   ]
  },
  {
   "cell_type": "code",
   "execution_count": 125,
   "id": "764f5ac0",
   "metadata": {},
   "outputs": [],
   "source": [
    "min_num_ratings = np.min(data.votes)\n",
    "max_num_ratings = np.max(data.votes)\n",
    "\n",
    "norm_coef = max_num_ratings - min_num_ratings"
   ]
  },
  {
   "cell_type": "code",
   "execution_count": 126,
   "id": "323b1c49",
   "metadata": {},
   "outputs": [
    {
     "data": {
      "text/html": [
       "<div>\n",
       "<style scoped>\n",
       "    .dataframe tbody tr th:only-of-type {\n",
       "        vertical-align: middle;\n",
       "    }\n",
       "\n",
       "    .dataframe tbody tr th {\n",
       "        vertical-align: top;\n",
       "    }\n",
       "\n",
       "    .dataframe thead th {\n",
       "        text-align: right;\n",
       "    }\n",
       "</style>\n",
       "<table border=\"1\" class=\"dataframe\">\n",
       "  <thead>\n",
       "    <tr style=\"text-align: right;\">\n",
       "      <th></th>\n",
       "      <th>id</th>\n",
       "      <th>title</th>\n",
       "      <th>author</th>\n",
       "      <th>category</th>\n",
       "      <th>description</th>\n",
       "      <th>description_nlp</th>\n",
       "      <th>rating</th>\n",
       "      <th>votes</th>\n",
       "    </tr>\n",
       "  </thead>\n",
       "  <tbody>\n",
       "    <tr>\n",
       "      <th>0</th>\n",
       "      <td>2905225</td>\n",
       "      <td>Daddy-Long-Legs</td>\n",
       "      <td>(Джин,Вебстер)</td>\n",
       "      <td>Проза</td>\n",
       "      <td>Эпистолярный роман Джин Вебстер «Длинноногий п...</td>\n",
       "      <td>эпистолярн рома джин вебстер длинноног папочк ...</td>\n",
       "      <td>3.90</td>\n",
       "      <td>10</td>\n",
       "    </tr>\n",
       "    <tr>\n",
       "      <th>1</th>\n",
       "      <td>2961065</td>\n",
       "      <td>Бесобой: роман</td>\n",
       "      <td>(Кирилл,Кутузов)</td>\n",
       "      <td>Фантастика и фентези</td>\n",
       "      <td>История мрачного борца с демонами — теперь в ф...</td>\n",
       "      <td>истор мрачн борц демон формат художествен рома...</td>\n",
       "      <td>3.88</td>\n",
       "      <td>33</td>\n",
       "    </tr>\n",
       "    <tr>\n",
       "      <th>2</th>\n",
       "      <td>2946512</td>\n",
       "      <td>Ночь, когда мы исчезли</td>\n",
       "      <td>(Николай,Кононов)</td>\n",
       "      <td>Проза</td>\n",
       "      <td>Война застает врасплох. Заставляет бежать, лом...</td>\n",
       "      <td>войн заста врасплох заставля бежа лома привычн...</td>\n",
       "      <td>3.92</td>\n",
       "      <td>64</td>\n",
       "    </tr>\n",
       "    <tr>\n",
       "      <th>3</th>\n",
       "      <td>2944570</td>\n",
       "      <td>Любовь. Мечта. Лидерство</td>\n",
       "      <td>(Анна,Пермиловская)</td>\n",
       "      <td>Спорт</td>\n",
       "      <td>Верить в себя или верить в судьбу? Реагировать...</td>\n",
       "      <td>вер вер судьб реагирова происходя создава реал...</td>\n",
       "      <td>4.40</td>\n",
       "      <td>15</td>\n",
       "    </tr>\n",
       "    <tr>\n",
       "      <th>4</th>\n",
       "      <td>2499495</td>\n",
       "      <td>Леонард Коэн. Биография.</td>\n",
       "      <td>(ND,ND)</td>\n",
       "      <td>Искусство</td>\n",
       "      <td>Скорее всего, вы никогда не встретите имя Леон...</td>\n",
       "      <td>скор встрет им леонард коэн предложен слон пло...</td>\n",
       "      <td>5.00</td>\n",
       "      <td>1</td>\n",
       "    </tr>\n",
       "    <tr>\n",
       "      <th>...</th>\n",
       "      <td>...</td>\n",
       "      <td>...</td>\n",
       "      <td>...</td>\n",
       "      <td>...</td>\n",
       "      <td>...</td>\n",
       "      <td>...</td>\n",
       "      <td>...</td>\n",
       "      <td>...</td>\n",
       "    </tr>\n",
       "    <tr>\n",
       "      <th>445817</th>\n",
       "      <td>2498197</td>\n",
       "      <td>Маркетинговые коммуникации в сфере услуг:специ...</td>\n",
       "      <td>(Александр,Суглобов)</td>\n",
       "      <td>Обучение</td>\n",
       "      <td>Cпецифика применения и инновационные подходы. ...</td>\n",
       "      <td>пецифик применен инновацион подход монограф от...</td>\n",
       "      <td>0.00</td>\n",
       "      <td>0</td>\n",
       "    </tr>\n",
       "    <tr>\n",
       "      <th>445818</th>\n",
       "      <td>2713527</td>\n",
       "      <td>Почему? Книга для чтения .</td>\n",
       "      <td>(Анатолий,Бердичевский)</td>\n",
       "      <td>Обучение</td>\n",
       "      <td>В книге представлен адаптированный текст повес...</td>\n",
       "      <td>в книг представл адаптирова текст повест б жит...</td>\n",
       "      <td>5.00</td>\n",
       "      <td>1</td>\n",
       "    </tr>\n",
       "    <tr>\n",
       "      <th>445819</th>\n",
       "      <td>2941731</td>\n",
       "      <td>Плетеное королевство</td>\n",
       "      <td>(\"Тахира\",Мафи)</td>\n",
       "      <td>Фантастика и фентези</td>\n",
       "      <td>— Мгновенный международный бестселлер по верси...</td>\n",
       "      <td>мгновен международн бестселлер верс тахир маф ...</td>\n",
       "      <td>4.05</td>\n",
       "      <td>88</td>\n",
       "    </tr>\n",
       "    <tr>\n",
       "      <th>445820</th>\n",
       "      <td>2920288</td>\n",
       "      <td>Леди и Бродяга. Графический роман</td>\n",
       "      <td>(Франсуа,Кортеджани)</td>\n",
       "      <td>Манга и Комиксы</td>\n",
       "      <td>Любящая семья и уютная подстилка — реальность ...</td>\n",
       "      <td>любя сем уютн подстилк реальност очаровательн ...</td>\n",
       "      <td>4.50</td>\n",
       "      <td>16</td>\n",
       "    </tr>\n",
       "    <tr>\n",
       "      <th>445821</th>\n",
       "      <td>2862130</td>\n",
       "      <td>Подруга - жизнь. Соседка - смерть. Подлинные и...</td>\n",
       "      <td>(ND,ND)</td>\n",
       "      <td>Проза</td>\n",
       "      <td>Книга подлинных историй из далекого и недавнег...</td>\n",
       "      <td>книг подлин истор далек недавн прошл притягива...</td>\n",
       "      <td>0.00</td>\n",
       "      <td>0</td>\n",
       "    </tr>\n",
       "  </tbody>\n",
       "</table>\n",
       "<p>445822 rows × 8 columns</p>\n",
       "</div>"
      ],
      "text/plain": [
       "             id                                              title  \\\n",
       "0       2905225                                    Daddy-Long-Legs   \n",
       "1       2961065                                     Бесобой: роман   \n",
       "2       2946512                             Ночь, когда мы исчезли   \n",
       "3       2944570                           Любовь. Мечта. Лидерство   \n",
       "4       2499495                           Леонард Коэн. Биография.   \n",
       "...         ...                                                ...   \n",
       "445817  2498197  Маркетинговые коммуникации в сфере услуг:специ...   \n",
       "445818  2713527                         Почему? Книга для чтения .   \n",
       "445819  2941731                               Плетеное королевство   \n",
       "445820  2920288                  Леди и Бродяга. Графический роман   \n",
       "445821  2862130  Подруга - жизнь. Соседка - смерть. Подлинные и...   \n",
       "\n",
       "                         author              category  \\\n",
       "0                (Джин,Вебстер)                 Проза   \n",
       "1              (Кирилл,Кутузов)  Фантастика и фентези   \n",
       "2             (Николай,Кононов)                 Проза   \n",
       "3           (Анна,Пермиловская)                 Спорт   \n",
       "4                       (ND,ND)             Искусство   \n",
       "...                         ...                   ...   \n",
       "445817     (Александр,Суглобов)              Обучение   \n",
       "445818  (Анатолий,Бердичевский)              Обучение   \n",
       "445819          (\"Тахира\",Мафи)  Фантастика и фентези   \n",
       "445820     (Франсуа,Кортеджани)       Манга и Комиксы   \n",
       "445821                  (ND,ND)                 Проза   \n",
       "\n",
       "                                              description  \\\n",
       "0       Эпистолярный роман Джин Вебстер «Длинноногий п...   \n",
       "1       История мрачного борца с демонами — теперь в ф...   \n",
       "2       Война застает врасплох. Заставляет бежать, лом...   \n",
       "3       Верить в себя или верить в судьбу? Реагировать...   \n",
       "4       Скорее всего, вы никогда не встретите имя Леон...   \n",
       "...                                                   ...   \n",
       "445817  Cпецифика применения и инновационные подходы. ...   \n",
       "445818  В книге представлен адаптированный текст повес...   \n",
       "445819  — Мгновенный международный бестселлер по верси...   \n",
       "445820  Любящая семья и уютная подстилка — реальность ...   \n",
       "445821  Книга подлинных историй из далекого и недавнег...   \n",
       "\n",
       "                                          description_nlp  rating  votes  \n",
       "0       эпистолярн рома джин вебстер длинноног папочк ...    3.90     10  \n",
       "1       истор мрачн борц демон формат художествен рома...    3.88     33  \n",
       "2       войн заста врасплох заставля бежа лома привычн...    3.92     64  \n",
       "3       вер вер судьб реагирова происходя создава реал...    4.40     15  \n",
       "4       скор встрет им леонард коэн предложен слон пло...    5.00      1  \n",
       "...                                                   ...     ...    ...  \n",
       "445817  пецифик применен инновацион подход монограф от...    0.00      0  \n",
       "445818  в книг представл адаптирова текст повест б жит...    5.00      1  \n",
       "445819  мгновен международн бестселлер верс тахир маф ...    4.05     88  \n",
       "445820  любя сем уютн подстилк реальност очаровательн ...    4.50     16  \n",
       "445821  книг подлин истор далек недавн прошл притягива...    0.00      0  \n",
       "\n",
       "[445822 rows x 8 columns]"
      ]
     },
     "execution_count": 126,
     "metadata": {},
     "output_type": "execute_result"
    }
   ],
   "source": [
    "data"
   ]
  },
  {
   "cell_type": "code",
   "execution_count": 127,
   "id": "be12dbb7",
   "metadata": {},
   "outputs": [],
   "source": [
    "data['coef'] = data.rating * (data.votes - min_num_ratings) / norm_coef"
   ]
  },
  {
   "cell_type": "markdown",
   "id": "0621882b",
   "metadata": {},
   "source": [
    "### Добавление обработанных описаний в БД"
   ]
  },
  {
   "cell_type": "code",
   "execution_count": 15,
   "id": "69732e09",
   "metadata": {},
   "outputs": [],
   "source": [
    "# for id_, data_ in zip(data.id, data.description):\n",
    "#     with ppg.connect(database='Books_', user=os.getenv('USER'), password=os.getenv(\"PASSWORD\")) as conn:\n",
    "#         with conn.cursor() as cur:\n",
    "#             query = \"\"\"\n",
    "#             UPDATE books SET description_nlp = %s WHERE id = %s;\n",
    "#             \"\"\"\n",
    "#             cur.execute(query, (data_, int(id_)))\n",
    "#             conn.commit()"
   ]
  },
  {
   "cell_type": "code",
   "execution_count": 128,
   "id": "9cd6ab0f",
   "metadata": {},
   "outputs": [],
   "source": [
    "data = data.set_index('id')"
   ]
  },
  {
   "cell_type": "markdown",
   "id": "1d101953",
   "metadata": {},
   "source": [
    "### Векторизация описаний"
   ]
  },
  {
   "cell_type": "code",
   "execution_count": 214,
   "id": "b55f1ae7",
   "metadata": {},
   "outputs": [
    {
     "data": {
      "text/plain": [
       "array(['Проза', 'Фантастика и фентези', 'Спорт', 'Искусство', 'Обучение',\n",
       "       'Наука', 'Манга и Комиксы', 'История', 'Прочее', 'Сказки',\n",
       "       'Поэзия', 'Приключения', 'Роман', 'Публицистика', 'Детектив',\n",
       "       'Мистика. Ужасы', 'Прочие языки'], dtype=object)"
      ]
     },
     "execution_count": 214,
     "metadata": {},
     "output_type": "execute_result"
    }
   ],
   "source": [
    "data.category.unique()"
   ]
  },
  {
   "cell_type": "code",
   "execution_count": 129,
   "id": "2b843b2c",
   "metadata": {},
   "outputs": [],
   "source": [
    "from sklearn.feature_extraction.text import TfidfVectorizer"
   ]
  },
  {
   "cell_type": "code",
   "execution_count": 215,
   "id": "5aed6488",
   "metadata": {},
   "outputs": [],
   "source": [
    "cat = 'Манга и Комиксы'"
   ]
  },
  {
   "cell_type": "code",
   "execution_count": 216,
   "id": "bdbf5c84",
   "metadata": {},
   "outputs": [
    {
     "name": "stdout",
     "output_type": "stream",
     "text": [
      "<class 'pandas.core.frame.DataFrame'>\n",
      "Int64Index: 7222 entries, 2925573 to 2920288\n",
      "Data columns (total 8 columns):\n",
      " #   Column           Non-Null Count  Dtype  \n",
      "---  ------           --------------  -----  \n",
      " 0   title            7222 non-null   object \n",
      " 1   author           7222 non-null   object \n",
      " 2   category         7222 non-null   object \n",
      " 3   description      7222 non-null   object \n",
      " 4   description_nlp  7222 non-null   object \n",
      " 5   rating           7222 non-null   float64\n",
      " 6   votes            7222 non-null   int64  \n",
      " 7   coef             7222 non-null   float64\n",
      "dtypes: float64(2), int64(1), object(5)\n",
      "memory usage: 507.8+ KB\n"
     ]
    }
   ],
   "source": [
    "to_model = data[data.category==cat]\n",
    "to_model.info()"
   ]
  },
  {
   "cell_type": "code",
   "execution_count": 217,
   "id": "f310f50c",
   "metadata": {},
   "outputs": [
    {
     "data": {
      "text/plain": [
       "<7222x27840 sparse matrix of type '<class 'numpy.float64'>'\n",
       "\twith 376035 stored elements in Compressed Sparse Row format>"
      ]
     },
     "execution_count": 217,
     "metadata": {},
     "output_type": "execute_result"
    }
   ],
   "source": [
    "tfidf = TfidfVectorizer()\n",
    "X_train_tfidf = tfidf.fit_transform(to_model.description_nlp)\n",
    "X_train_tfidf"
   ]
  },
  {
   "cell_type": "markdown",
   "id": "465f61f8",
   "metadata": {},
   "source": [
    "### Косинусное расстрояние"
   ]
  },
  {
   "cell_type": "code",
   "execution_count": 218,
   "id": "38129930",
   "metadata": {},
   "outputs": [],
   "source": [
    "from sklearn.neighbors import NearestNeighbors"
   ]
  },
  {
   "cell_type": "code",
   "execution_count": 219,
   "id": "c3166446",
   "metadata": {},
   "outputs": [
    {
     "data": {
      "text/html": [
       "<style>#sk-container-id-15 {color: black;}#sk-container-id-15 pre{padding: 0;}#sk-container-id-15 div.sk-toggleable {background-color: white;}#sk-container-id-15 label.sk-toggleable__label {cursor: pointer;display: block;width: 100%;margin-bottom: 0;padding: 0.3em;box-sizing: border-box;text-align: center;}#sk-container-id-15 label.sk-toggleable__label-arrow:before {content: \"▸\";float: left;margin-right: 0.25em;color: #696969;}#sk-container-id-15 label.sk-toggleable__label-arrow:hover:before {color: black;}#sk-container-id-15 div.sk-estimator:hover label.sk-toggleable__label-arrow:before {color: black;}#sk-container-id-15 div.sk-toggleable__content {max-height: 0;max-width: 0;overflow: hidden;text-align: left;background-color: #f0f8ff;}#sk-container-id-15 div.sk-toggleable__content pre {margin: 0.2em;color: black;border-radius: 0.25em;background-color: #f0f8ff;}#sk-container-id-15 input.sk-toggleable__control:checked~div.sk-toggleable__content {max-height: 200px;max-width: 100%;overflow: auto;}#sk-container-id-15 input.sk-toggleable__control:checked~label.sk-toggleable__label-arrow:before {content: \"▾\";}#sk-container-id-15 div.sk-estimator input.sk-toggleable__control:checked~label.sk-toggleable__label {background-color: #d4ebff;}#sk-container-id-15 div.sk-label input.sk-toggleable__control:checked~label.sk-toggleable__label {background-color: #d4ebff;}#sk-container-id-15 input.sk-hidden--visually {border: 0;clip: rect(1px 1px 1px 1px);clip: rect(1px, 1px, 1px, 1px);height: 1px;margin: -1px;overflow: hidden;padding: 0;position: absolute;width: 1px;}#sk-container-id-15 div.sk-estimator {font-family: monospace;background-color: #f0f8ff;border: 1px dotted black;border-radius: 0.25em;box-sizing: border-box;margin-bottom: 0.5em;}#sk-container-id-15 div.sk-estimator:hover {background-color: #d4ebff;}#sk-container-id-15 div.sk-parallel-item::after {content: \"\";width: 100%;border-bottom: 1px solid gray;flex-grow: 1;}#sk-container-id-15 div.sk-label:hover label.sk-toggleable__label {background-color: #d4ebff;}#sk-container-id-15 div.sk-serial::before {content: \"\";position: absolute;border-left: 1px solid gray;box-sizing: border-box;top: 0;bottom: 0;left: 50%;z-index: 0;}#sk-container-id-15 div.sk-serial {display: flex;flex-direction: column;align-items: center;background-color: white;padding-right: 0.2em;padding-left: 0.2em;position: relative;}#sk-container-id-15 div.sk-item {position: relative;z-index: 1;}#sk-container-id-15 div.sk-parallel {display: flex;align-items: stretch;justify-content: center;background-color: white;position: relative;}#sk-container-id-15 div.sk-item::before, #sk-container-id-15 div.sk-parallel-item::before {content: \"\";position: absolute;border-left: 1px solid gray;box-sizing: border-box;top: 0;bottom: 0;left: 50%;z-index: -1;}#sk-container-id-15 div.sk-parallel-item {display: flex;flex-direction: column;z-index: 1;position: relative;background-color: white;}#sk-container-id-15 div.sk-parallel-item:first-child::after {align-self: flex-end;width: 50%;}#sk-container-id-15 div.sk-parallel-item:last-child::after {align-self: flex-start;width: 50%;}#sk-container-id-15 div.sk-parallel-item:only-child::after {width: 0;}#sk-container-id-15 div.sk-dashed-wrapped {border: 1px dashed gray;margin: 0 0.4em 0.5em 0.4em;box-sizing: border-box;padding-bottom: 0.4em;background-color: white;}#sk-container-id-15 div.sk-label label {font-family: monospace;font-weight: bold;display: inline-block;line-height: 1.2em;}#sk-container-id-15 div.sk-label-container {text-align: center;}#sk-container-id-15 div.sk-container {/* jupyter's `normalize.less` sets `[hidden] { display: none; }` but bootstrap.min.css set `[hidden] { display: none !important; }` so we also need the `!important` here to be able to override the default hidden behavior on the sphinx rendered scikit-learn.org. See: https://github.com/scikit-learn/scikit-learn/issues/21755 */display: inline-block !important;position: relative;}#sk-container-id-15 div.sk-text-repr-fallback {display: none;}</style><div id=\"sk-container-id-15\" class=\"sk-top-container\"><div class=\"sk-text-repr-fallback\"><pre>NearestNeighbors(metric=&#x27;cosine&#x27;, n_neighbors=30)</pre><b>In a Jupyter environment, please rerun this cell to show the HTML representation or trust the notebook. <br />On GitHub, the HTML representation is unable to render, please try loading this page with nbviewer.org.</b></div><div class=\"sk-container\" hidden><div class=\"sk-item\"><div class=\"sk-estimator sk-toggleable\"><input class=\"sk-toggleable__control sk-hidden--visually\" id=\"sk-estimator-id-15\" type=\"checkbox\" checked><label for=\"sk-estimator-id-15\" class=\"sk-toggleable__label sk-toggleable__label-arrow\">NearestNeighbors</label><div class=\"sk-toggleable__content\"><pre>NearestNeighbors(metric=&#x27;cosine&#x27;, n_neighbors=30)</pre></div></div></div></div></div>"
      ],
      "text/plain": [
       "NearestNeighbors(metric='cosine', n_neighbors=30)"
      ]
     },
     "execution_count": 219,
     "metadata": {},
     "output_type": "execute_result"
    }
   ],
   "source": [
    "neighbors = NearestNeighbors(n_neighbors=30, metric='cosine') \n",
    "neighbors.fit(X_train_tfidf)"
   ]
  },
  {
   "cell_type": "code",
   "execution_count": 228,
   "id": "984b9675",
   "metadata": {},
   "outputs": [],
   "source": [
    "X_tfidf = tfidf.transform([tokenize('мангака')])\n",
    "\n",
    "res = neighbors.kneighbors(X_tfidf, return_distance=True)"
   ]
  },
  {
   "cell_type": "code",
   "execution_count": 229,
   "id": "b4b7a515",
   "metadata": {},
   "outputs": [
    {
     "data": {
      "text/plain": [
       "(array([[0.47890649, 0.58479325, 0.60574349, 0.65886932, 0.75663781,\n",
       "         0.75737664, 0.77653774, 0.79922529, 0.79950189, 0.80197752,\n",
       "         0.81072254, 0.82362682, 0.82594238, 0.84529217, 0.85104915,\n",
       "         0.85356064, 0.85866116, 0.8669618 , 0.87163113, 0.87825542,\n",
       "         0.88193883, 0.88735059, 0.89396717, 0.89515197, 0.90194428,\n",
       "         0.90489134, 0.90734155, 0.91338593, 0.91727419, 1.        ]]),\n",
       " array([[ 768, 3233, 4450, 2073, 6477, 6488, 2393, 3230, 1386, 2908, 3228,\n",
       "         2614, 6802,   38, 6820, 2829,  413, 3735, 6744, 5780,  381,  767,\n",
       "          244,  142,  947, 7191, 1928,  948, 2176, 4813]]))"
      ]
     },
     "execution_count": 229,
     "metadata": {},
     "output_type": "execute_result"
    }
   ],
   "source": [
    "res"
   ]
  },
  {
   "cell_type": "code",
   "execution_count": 230,
   "id": "53e67865",
   "metadata": {},
   "outputs": [],
   "source": [
    "result = to_model.iloc[res[1][0]].sort_values(['coef', 'rating', 'votes'], ascending=[False, False, True])\n",
    "result = result[['title', 'description', 'rating']]\n",
    "\n",
    "result.drop_duplicates('title', inplace=True)"
   ]
  },
  {
   "cell_type": "code",
   "execution_count": 231,
   "id": "ce34c205",
   "metadata": {},
   "outputs": [
    {
     "data": {
      "text/html": [
       "<div>\n",
       "<style scoped>\n",
       "    .dataframe tbody tr th:only-of-type {\n",
       "        vertical-align: middle;\n",
       "    }\n",
       "\n",
       "    .dataframe tbody tr th {\n",
       "        vertical-align: top;\n",
       "    }\n",
       "\n",
       "    .dataframe thead th {\n",
       "        text-align: right;\n",
       "    }\n",
       "</style>\n",
       "<table border=\"1\" class=\"dataframe\">\n",
       "  <thead>\n",
       "    <tr style=\"text-align: right;\">\n",
       "      <th></th>\n",
       "      <th>title</th>\n",
       "      <th>description</th>\n",
       "      <th>rating</th>\n",
       "    </tr>\n",
       "    <tr>\n",
       "      <th>id</th>\n",
       "      <th></th>\n",
       "      <th></th>\n",
       "      <th></th>\n",
       "    </tr>\n",
       "  </thead>\n",
       "  <tbody>\n",
       "    <tr>\n",
       "      <th>2799141</th>\n",
       "      <td>Призрак в доспехах 1</td>\n",
       "      <td>Классика киберпанка, всемирно известная манга ...</td>\n",
       "      <td>4.38</td>\n",
       "    </tr>\n",
       "    <tr>\n",
       "      <th>2839891</th>\n",
       "      <td>Последнее путешествие девочек. Том 3</td>\n",
       "      <td>Любителям постапокалипсиса с элементами филосо...</td>\n",
       "      <td>4.68</td>\n",
       "    </tr>\n",
       "    <tr>\n",
       "      <th>2834178</th>\n",
       "      <td>Последнее путешествие девочек. Том 2</td>\n",
       "      <td>Любителям постапокалипсиса с элементами филосо...</td>\n",
       "      <td>4.60</td>\n",
       "    </tr>\n",
       "    <tr>\n",
       "      <th>2934843</th>\n",
       "      <td>Прогулки (ARUKU HITO)</td>\n",
       "      <td>Остановиться на миг в суете бегущих дней, отло...</td>\n",
       "      <td>4.00</td>\n",
       "    </tr>\n",
       "    <tr>\n",
       "      <th>2553456</th>\n",
       "      <td>Бакуман. Том 1 . Книги 3-4 : манга</td>\n",
       "      <td>Мечтая стать лучшими мангаками Японии, Сайко и...</td>\n",
       "      <td>4.86</td>\n",
       "    </tr>\n",
       "    <tr>\n",
       "      <th>2620851</th>\n",
       "      <td>Опус</td>\n",
       "      <td>Сатоси Кон известен миру прежде всего как гени...</td>\n",
       "      <td>4.39</td>\n",
       "    </tr>\n",
       "    <tr>\n",
       "      <th>2880522</th>\n",
       "      <td>Неопаразит f</td>\n",
       "      <td>У появившихся из ниоткуда инопланетных паразит...</td>\n",
       "      <td>4.02</td>\n",
       "    </tr>\n",
       "    <tr>\n",
       "      <th>2643241</th>\n",
       "      <td>Бакуман. Том 5 . Книги 9-10 : манга</td>\n",
       "      <td>В выпуск 5 входят книги 9 и 10.\\r\\n\\r\\nКомедий...</td>\n",
       "      <td>4.74</td>\n",
       "    </tr>\n",
       "    <tr>\n",
       "      <th>2879430</th>\n",
       "      <td>Assassins Creed: Вальгалла. Кровные братья</td>\n",
       "      <td>Откройте для себя эпическую историю о ярких бр...</td>\n",
       "      <td>3.77</td>\n",
       "    </tr>\n",
       "    <tr>\n",
       "      <th>2891748</th>\n",
       "      <td>Дух чудес</td>\n",
       "      <td>В этой книге Кэндзи Цурута перенесёт нас в мир...</td>\n",
       "      <td>4.24</td>\n",
       "    </tr>\n",
       "  </tbody>\n",
       "</table>\n",
       "</div>"
      ],
      "text/plain": [
       "                                              title  \\\n",
       "id                                                    \n",
       "2799141                        Призрак в доспехах 1   \n",
       "2839891        Последнее путешествие девочек. Том 3   \n",
       "2834178        Последнее путешествие девочек. Том 2   \n",
       "2934843                       Прогулки (ARUKU HITO)   \n",
       "2553456          Бакуман. Том 1 . Книги 3-4 : манга   \n",
       "2620851                                       Опус    \n",
       "2880522                                Неопаразит f   \n",
       "2643241         Бакуман. Том 5 . Книги 9-10 : манга   \n",
       "2879430  Assassins Creed: Вальгалла. Кровные братья   \n",
       "2891748                                   Дух чудес   \n",
       "\n",
       "                                               description  rating  \n",
       "id                                                                  \n",
       "2799141  Классика киберпанка, всемирно известная манга ...    4.38  \n",
       "2839891  Любителям постапокалипсиса с элементами филосо...    4.68  \n",
       "2834178  Любителям постапокалипсиса с элементами филосо...    4.60  \n",
       "2934843  Остановиться на миг в суете бегущих дней, отло...    4.00  \n",
       "2553456  Мечтая стать лучшими мангаками Японии, Сайко и...    4.86  \n",
       "2620851  Сатоси Кон известен миру прежде всего как гени...    4.39  \n",
       "2880522  У появившихся из ниоткуда инопланетных паразит...    4.02  \n",
       "2643241  В выпуск 5 входят книги 9 и 10.\\r\\n\\r\\nКомедий...    4.74  \n",
       "2879430  Откройте для себя эпическую историю о ярких бр...    3.77  \n",
       "2891748  В этой книге Кэндзи Цурута перенесёт нас в мир...    4.24  "
      ]
     },
     "execution_count": 231,
     "metadata": {},
     "output_type": "execute_result"
    }
   ],
   "source": [
    "result[:10]"
   ]
  },
  {
   "cell_type": "code",
   "execution_count": null,
   "id": "1489cfeb",
   "metadata": {},
   "outputs": [],
   "source": []
  }
 ],
 "metadata": {
  "kernelspec": {
   "display_name": "Python 3 (ipykernel)",
   "language": "python",
   "name": "python3"
  },
  "language_info": {
   "codemirror_mode": {
    "name": "ipython",
    "version": 3
   },
   "file_extension": ".py",
   "mimetype": "text/x-python",
   "name": "python",
   "nbconvert_exporter": "python",
   "pygments_lexer": "ipython3",
   "version": "3.11.4"
  }
 },
 "nbformat": 4,
 "nbformat_minor": 5
}
